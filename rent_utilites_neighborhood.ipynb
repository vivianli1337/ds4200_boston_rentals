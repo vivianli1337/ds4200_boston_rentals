{
  "nbformat": 4,
  "nbformat_minor": 0,
  "metadata": {
    "colab": {
      "provenance": []
    },
    "kernelspec": {
      "name": "python3",
      "display_name": "Python 3"
    },
    "language_info": {
      "name": "python"
    }
  },
  "cells": [
    {
      "cell_type": "code",
      "source": [
        "import pandas as pd\n",
        "import altair as alt\n",
        "\n",
        "# Load the data\n",
        "df = pd.read_csv(\"cleaned_rental_data.csv\")\n",
        "\n",
        "# Rename columns for clarity\n",
        "df = df.rename(columns={\n",
        "    \"Total Rent Avg\": \"Rent\",\n",
        "    \"Utility Cost Avg\": \"Utilities\"\n",
        "})\n",
        "\n",
        "# Melt to long format\n",
        "melted_df = df.melt(\n",
        "    id_vars=[\"Neighborhood\"],\n",
        "    value_vars=[\"Rent\", \"Utilities\"],\n",
        "    var_name=\"Cost Type\",\n",
        "    value_name=\"Cost\"\n",
        ")\n",
        "\n",
        "# Group by Neighborhood and Cost Type and calculate averages\n",
        "avg_costs = melted_df.groupby([\"Neighborhood\", \"Cost Type\"], as_index=False)[\"Cost\"].mean()\n",
        "\n",
        "# Sort neighborhoods by total cost\n",
        "sorted_neighborhoods = (\n",
        "    avg_costs.pivot(index=\"Neighborhood\", columns=\"Cost Type\", values=\"Cost\")\n",
        "    .fillna(0)\n",
        "    .assign(Total=lambda x: x[\"Rent\"] + x[\"Utilities\"])\n",
        "    .sort_values(\"Total\")\n",
        "    .index.tolist()\n",
        ")\n",
        "\n",
        "# Define green color scale\n",
        "color_scale = alt.Scale(domain=[\"Rent\", \"Utilities\"], range=[\"#A8D5BA\", \"#5EAD90\"])\n",
        "\n",
        "# Create the stacked bar chart\n",
        "chart = alt.Chart(avg_costs).mark_bar().encode(\n",
        "    x=alt.X(\"Neighborhood:N\", sort=sorted_neighborhoods, title=\"Neighborhood\"),\n",
        "    y=alt.Y(\"Cost:Q\", stack=\"zero\", title=\"Average Monthly Housing Cost\"),\n",
        "    color=alt.Color(\"Cost Type:N\", title=\"Cost Type\", scale=color_scale),\n",
        "    tooltip=[\"Neighborhood\", \"Cost Type\", \"Cost\"]\n",
        ").properties(\n",
        "    title=\"Average Rent and Utility Costs by Neighborhood\",\n",
        "    width=750,\n",
        "    background=\"#FFFDE7\"  # Light cream background\n",
        ").configure_axisX(\n",
        "    labelAngle=-40\n",
        ").configure_title(\n",
        "    fontSize=18,\n",
        "    anchor='start',\n",
        "    color='black'  # Black title\n",
        ").configure_view(\n",
        "    stroke=None\n",
        ")\n",
        "\n",
        "chart\n"
      ],
      "metadata": {
        "colab": {
          "base_uri": "https://localhost:8080/",
          "height": 503
        },
        "id": "4qT68eX2rBuo",
        "outputId": "c9beea49-ef1f-4d6f-c2e7-038eedec9cc5"
      },
      "execution_count": 2,
      "outputs": [
        {
          "output_type": "execute_result",
          "data": {
            "text/html": [
              "\n",
              "<style>\n",
              "  #altair-viz-c41d2d6d6d234ff2962b298b645d6f96.vega-embed {\n",
              "    width: 100%;\n",
              "    display: flex;\n",
              "  }\n",
              "\n",
              "  #altair-viz-c41d2d6d6d234ff2962b298b645d6f96.vega-embed details,\n",
              "  #altair-viz-c41d2d6d6d234ff2962b298b645d6f96.vega-embed details summary {\n",
              "    position: relative;\n",
              "  }\n",
              "</style>\n",
              "<div id=\"altair-viz-c41d2d6d6d234ff2962b298b645d6f96\"></div>\n",
              "<script type=\"text/javascript\">\n",
              "  var VEGA_DEBUG = (typeof VEGA_DEBUG == \"undefined\") ? {} : VEGA_DEBUG;\n",
              "  (function(spec, embedOpt){\n",
              "    let outputDiv = document.currentScript.previousElementSibling;\n",
              "    if (outputDiv.id !== \"altair-viz-c41d2d6d6d234ff2962b298b645d6f96\") {\n",
              "      outputDiv = document.getElementById(\"altair-viz-c41d2d6d6d234ff2962b298b645d6f96\");\n",
              "    }\n",
              "\n",
              "    const paths = {\n",
              "      \"vega\": \"https://cdn.jsdelivr.net/npm/vega@5?noext\",\n",
              "      \"vega-lib\": \"https://cdn.jsdelivr.net/npm/vega-lib?noext\",\n",
              "      \"vega-lite\": \"https://cdn.jsdelivr.net/npm/vega-lite@5.20.1?noext\",\n",
              "      \"vega-embed\": \"https://cdn.jsdelivr.net/npm/vega-embed@6?noext\",\n",
              "    };\n",
              "\n",
              "    function maybeLoadScript(lib, version) {\n",
              "      var key = `${lib.replace(\"-\", \"\")}_version`;\n",
              "      return (VEGA_DEBUG[key] == version) ?\n",
              "        Promise.resolve(paths[lib]) :\n",
              "        new Promise(function(resolve, reject) {\n",
              "          var s = document.createElement('script');\n",
              "          document.getElementsByTagName(\"head\")[0].appendChild(s);\n",
              "          s.async = true;\n",
              "          s.onload = () => {\n",
              "            VEGA_DEBUG[key] = version;\n",
              "            return resolve(paths[lib]);\n",
              "          };\n",
              "          s.onerror = () => reject(`Error loading script: ${paths[lib]}`);\n",
              "          s.src = paths[lib];\n",
              "        });\n",
              "    }\n",
              "\n",
              "    function showError(err) {\n",
              "      outputDiv.innerHTML = `<div class=\"error\" style=\"color:red;\">${err}</div>`;\n",
              "      throw err;\n",
              "    }\n",
              "\n",
              "    function displayChart(vegaEmbed) {\n",
              "      vegaEmbed(outputDiv, spec, embedOpt)\n",
              "        .catch(err => showError(`Javascript Error: ${err.message}<br>This usually means there's a typo in your chart specification. See the javascript console for the full traceback.`));\n",
              "    }\n",
              "\n",
              "    if(typeof define === \"function\" && define.amd) {\n",
              "      requirejs.config({paths});\n",
              "      let deps = [\"vega-embed\"];\n",
              "      require(deps, displayChart, err => showError(`Error loading script: ${err.message}`));\n",
              "    } else {\n",
              "      maybeLoadScript(\"vega\", \"5\")\n",
              "        .then(() => maybeLoadScript(\"vega-lite\", \"5.20.1\"))\n",
              "        .then(() => maybeLoadScript(\"vega-embed\", \"6\"))\n",
              "        .catch(showError)\n",
              "        .then(() => displayChart(vegaEmbed));\n",
              "    }\n",
              "  })({\"config\": {\"view\": {\"continuousWidth\": 300, \"continuousHeight\": 300, \"stroke\": null}, \"axisX\": {\"labelAngle\": -40}, \"title\": {\"anchor\": \"start\", \"color\": \"black\", \"fontSize\": 18}}, \"data\": {\"name\": \"data-ac03c57e41f63c7eecf440f7dad4a718\"}, \"mark\": {\"type\": \"bar\"}, \"background\": \"#FFFDE7\", \"encoding\": {\"color\": {\"field\": \"Cost Type\", \"scale\": {\"domain\": [\"Rent\", \"Utilities\"], \"range\": [\"#A8D5BA\", \"#5EAD90\"]}, \"title\": \"Cost Type\", \"type\": \"nominal\"}, \"tooltip\": [{\"field\": \"Neighborhood\", \"type\": \"nominal\"}, {\"field\": \"Cost Type\", \"type\": \"nominal\"}, {\"field\": \"Cost\", \"type\": \"quantitative\"}], \"x\": {\"field\": \"Neighborhood\", \"sort\": [\"South Boston\", \"West End (residential area near the North End and TD Garden)\", \"North End\", \"Waterfront\", \"Seaport District\", \"Beacon Hill\", \"The Fenway/Kenmore\", \"Downtown\", \"Mission Hill\", \"Jamaica Plain (JP)\", \"Roxbury\", \"BackBay\"], \"title\": \"Neighborhood\", \"type\": \"nominal\"}, \"y\": {\"field\": \"Cost\", \"stack\": \"zero\", \"title\": \"Average Monthly Housing Cost\", \"type\": \"quantitative\"}}, \"title\": \"Average Rent and Utility Costs by Neighborhood\", \"width\": 750, \"$schema\": \"https://vega.github.io/schema/vega-lite/v5.20.1.json\", \"datasets\": {\"data-ac03c57e41f63c7eecf440f7dad4a718\": [{\"Neighborhood\": \"BackBay\", \"Cost Type\": \"Rent\", \"Cost\": 5357.142857142857}, {\"Neighborhood\": \"BackBay\", \"Cost Type\": \"Utilities\", \"Cost\": 146.42857142857142}, {\"Neighborhood\": \"Beacon Hill\", \"Cost Type\": \"Rent\", \"Cost\": 3833.3333333333335}, {\"Neighborhood\": \"Beacon Hill\", \"Cost Type\": \"Utilities\", \"Cost\": 175.0}, {\"Neighborhood\": \"Downtown\", \"Cost Type\": \"Rent\", \"Cost\": 4409.090909090909}, {\"Neighborhood\": \"Downtown\", \"Cost Type\": \"Utilities\", \"Cost\": 140.0}, {\"Neighborhood\": \"Jamaica Plain (JP)\", \"Cost Type\": \"Rent\", \"Cost\": 4500.0}, {\"Neighborhood\": \"Jamaica Plain (JP)\", \"Cost Type\": \"Utilities\", \"Cost\": 150.0}, {\"Neighborhood\": \"Mission Hill\", \"Cost Type\": \"Rent\", \"Cost\": 4318.181818181818}, {\"Neighborhood\": \"Mission Hill\", \"Cost Type\": \"Utilities\", \"Cost\": 246.25}, {\"Neighborhood\": \"North End\", \"Cost Type\": \"Rent\", \"Cost\": 2833.3333333333335}, {\"Neighborhood\": \"North End\", \"Cost Type\": \"Utilities\", \"Cost\": 158.33333333333334}, {\"Neighborhood\": \"Roxbury\", \"Cost Type\": \"Rent\", \"Cost\": 5000.0}, {\"Neighborhood\": \"Roxbury\", \"Cost Type\": \"Utilities\", \"Cost\": 160.71428571428572}, {\"Neighborhood\": \"Seaport District\", \"Cost Type\": \"Rent\", \"Cost\": 3500.0}, {\"Neighborhood\": \"Seaport District\", \"Cost Type\": \"Utilities\", \"Cost\": 175.0}, {\"Neighborhood\": \"South Boston\", \"Cost Type\": \"Rent\", \"Cost\": 2500.0}, {\"Neighborhood\": \"South Boston\", \"Cost Type\": \"Utilities\", \"Cost\": 175.0}, {\"Neighborhood\": \"The Fenway/Kenmore\", \"Cost Type\": \"Rent\", \"Cost\": 3934.782608695652}, {\"Neighborhood\": \"The Fenway/Kenmore\", \"Cost Type\": \"Utilities\", \"Cost\": 322.5}, {\"Neighborhood\": \"Waterfront\", \"Cost Type\": \"Rent\", \"Cost\": 2833.3333333333335}, {\"Neighborhood\": \"Waterfront\", \"Cost Type\": \"Utilities\", \"Cost\": 766.6666666666666}, {\"Neighborhood\": \"West End (residential area near the North End and TD Garden)\", \"Cost Type\": \"Rent\", \"Cost\": 2833.3333333333335}, {\"Neighborhood\": \"West End (residential area near the North End and TD Garden)\", \"Cost Type\": \"Utilities\", \"Cost\": 141.66666666666666}]}}, {\"mode\": \"vega-lite\"});\n",
              "</script>"
            ],
            "text/plain": [
              "alt.Chart(...)"
            ]
          },
          "metadata": {},
          "execution_count": 2
        }
      ]
    },
    {
      "cell_type": "code",
      "source": [
        "# HTML\n",
        "chart.save(\"rent_utilities_by_neighborhood.html\")\n"
      ],
      "metadata": {
        "id": "KHDppz1QwNDJ"
      },
      "execution_count": 3,
      "outputs": []
    }
  ]
}