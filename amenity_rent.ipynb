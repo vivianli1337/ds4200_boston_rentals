{
  "cells": [
    {
      "cell_type": "code",
      "execution_count": 1,
      "metadata": {
        "colab": {
          "base_uri": "https://localhost:8080/",
          "height": 74
        },
        "id": "0MvkUuGM5_H0",
        "outputId": "7981676f-d11a-4406-b3a8-328381085977"
      },
      "outputs": [
        {
          "ename": "ModuleNotFoundError",
          "evalue": "No module named 'google.colab'",
          "output_type": "error",
          "traceback": [
            "\u001b[0;31m---------------------------------------------------------------------------\u001b[0m",
            "\u001b[0;31mModuleNotFoundError\u001b[0m                       Traceback (most recent call last)",
            "Cell \u001b[0;32mIn[1], line 1\u001b[0m\n\u001b[0;32m----> 1\u001b[0m \u001b[38;5;28;01mfrom\u001b[39;00m \u001b[38;5;21;01mgoogle\u001b[39;00m\u001b[38;5;21;01m.\u001b[39;00m\u001b[38;5;21;01mcolab\u001b[39;00m \u001b[38;5;28;01mimport\u001b[39;00m files\n\u001b[1;32m      2\u001b[0m upl \u001b[38;5;241m=\u001b[39m files\u001b[38;5;241m.\u001b[39mupload()\n",
            "\u001b[0;31mModuleNotFoundError\u001b[0m: No module named 'google.colab'"
          ]
        }
      ],
      "source": [
        "from google.colab import files\n",
        "upl = files.upload()"
      ]
    },
    {
      "cell_type": "code",
      "execution_count": 2,
      "metadata": {
        "colab": {
          "base_uri": "https://localhost:8080/",
          "height": 626
        },
        "id": "0mueDOI05ODU",
        "outputId": "24f1e870-0ca2-4c1b-c669-66bf792a204d"
      },
      "outputs": [
        {
          "data": {
            "text/html": [
              "\n",
              "<style>\n",
              "  #altair-viz-cecb5642ca4a4436bc27b6cb671ab99e.vega-embed {\n",
              "    width: 100%;\n",
              "    display: flex;\n",
              "  }\n",
              "\n",
              "  #altair-viz-cecb5642ca4a4436bc27b6cb671ab99e.vega-embed details,\n",
              "  #altair-viz-cecb5642ca4a4436bc27b6cb671ab99e.vega-embed details summary {\n",
              "    position: relative;\n",
              "  }\n",
              "</style>\n",
              "<div id=\"altair-viz-cecb5642ca4a4436bc27b6cb671ab99e\"></div>\n",
              "<script type=\"text/javascript\">\n",
              "  var VEGA_DEBUG = (typeof VEGA_DEBUG == \"undefined\") ? {} : VEGA_DEBUG;\n",
              "  (function(spec, embedOpt){\n",
              "    let outputDiv = document.currentScript.previousElementSibling;\n",
              "    if (outputDiv.id !== \"altair-viz-cecb5642ca4a4436bc27b6cb671ab99e\") {\n",
              "      outputDiv = document.getElementById(\"altair-viz-cecb5642ca4a4436bc27b6cb671ab99e\");\n",
              "    }\n",
              "\n",
              "    const paths = {\n",
              "      \"vega\": \"https://cdn.jsdelivr.net/npm/vega@5?noext\",\n",
              "      \"vega-lib\": \"https://cdn.jsdelivr.net/npm/vega-lib?noext\",\n",
              "      \"vega-lite\": \"https://cdn.jsdelivr.net/npm/vega-lite@5.20.1?noext\",\n",
              "      \"vega-embed\": \"https://cdn.jsdelivr.net/npm/vega-embed@6?noext\",\n",
              "    };\n",
              "\n",
              "    function maybeLoadScript(lib, version) {\n",
              "      var key = `${lib.replace(\"-\", \"\")}_version`;\n",
              "      return (VEGA_DEBUG[key] == version) ?\n",
              "        Promise.resolve(paths[lib]) :\n",
              "        new Promise(function(resolve, reject) {\n",
              "          var s = document.createElement('script');\n",
              "          document.getElementsByTagName(\"head\")[0].appendChild(s);\n",
              "          s.async = true;\n",
              "          s.onload = () => {\n",
              "            VEGA_DEBUG[key] = version;\n",
              "            return resolve(paths[lib]);\n",
              "          };\n",
              "          s.onerror = () => reject(`Error loading script: ${paths[lib]}`);\n",
              "          s.src = paths[lib];\n",
              "        });\n",
              "    }\n",
              "\n",
              "    function showError(err) {\n",
              "      outputDiv.innerHTML = `<div class=\"error\" style=\"color:red;\">${err}</div>`;\n",
              "      throw err;\n",
              "    }\n",
              "\n",
              "    function displayChart(vegaEmbed) {\n",
              "      vegaEmbed(outputDiv, spec, embedOpt)\n",
              "        .catch(err => showError(`Javascript Error: ${err.message}<br>This usually means there's a typo in your chart specification. See the javascript console for the full traceback.`));\n",
              "    }\n",
              "\n",
              "    if(typeof define === \"function\" && define.amd) {\n",
              "      requirejs.config({paths});\n",
              "      let deps = [\"vega-embed\"];\n",
              "      require(deps, displayChart, err => showError(`Error loading script: ${err.message}`));\n",
              "    } else {\n",
              "      maybeLoadScript(\"vega\", \"5\")\n",
              "        .then(() => maybeLoadScript(\"vega-lite\", \"5.20.1\"))\n",
              "        .then(() => maybeLoadScript(\"vega-embed\", \"6\"))\n",
              "        .catch(showError)\n",
              "        .then(() => displayChart(vegaEmbed));\n",
              "    }\n",
              "  })({\"config\": {\"view\": {\"continuousWidth\": 300, \"continuousHeight\": 300}}, \"layer\": [{\"mark\": {\"type\": \"boxplot\", \"color\": \"#0b3d91\"}, \"encoding\": {\"x\": {\"axis\": {\"labelAngle\": -45}, \"field\": \"Amenity\", \"sort\": \"-y\", \"title\": \"Amenity\", \"type\": \"nominal\"}, \"y\": {\"field\": \"Total Rent w/ Utilities\", \"title\": \"Total Rent\", \"type\": \"quantitative\"}}}, {\"mark\": {\"type\": \"bar\", \"opacity\": 0}, \"encoding\": {\"tooltip\": [{\"field\": \"Amenity\", \"title\": \"Amenity\", \"type\": \"nominal\"}, {\"field\": \"count\", \"title\": \"Number of Listings\", \"type\": \"quantitative\"}, {\"field\": \"mean\", \"format\": \",.0f\", \"title\": \"Mean Rent\", \"type\": \"quantitative\"}, {\"field\": \"q1\", \"format\": \",.0f\", \"title\": \"1st Quartile\", \"type\": \"quantitative\"}, {\"field\": \"median\", \"format\": \",.0f\", \"title\": \"Median Rent\", \"type\": \"quantitative\"}, {\"field\": \"q3\", \"format\": \",.0f\", \"title\": \"3rd Quartile\", \"type\": \"quantitative\"}], \"x\": {\"axis\": {\"labelAngle\": -45}, \"field\": \"Amenity\", \"sort\": \"-y\", \"title\": \"Amenity\", \"type\": \"nominal\"}, \"y\": {\"field\": \"median\", \"type\": \"quantitative\"}}, \"transform\": [{\"aggregate\": [{\"op\": \"count\", \"as\": \"count\"}, {\"op\": \"mean\", \"field\": \"Total Rent w/ Utilities\", \"as\": \"mean\"}, {\"op\": \"q1\", \"field\": \"Total Rent w/ Utilities\", \"as\": \"q1\"}, {\"op\": \"median\", \"field\": \"Total Rent w/ Utilities\", \"as\": \"median\"}, {\"op\": \"q3\", \"field\": \"Total Rent w/ Utilities\", \"as\": \"q3\"}], \"groupby\": [\"Amenity\"]}]}], \"data\": {\"name\": \"data-0004ac163f71886bceaaef7486af513f\"}, \"height\": 400, \"title\": \"Rent Distribution by Amenity\", \"width\": 600, \"$schema\": \"https://vega.github.io/schema/vega-lite/v5.20.1.json\", \"datasets\": {\"data-0004ac163f71886bceaaef7486af513f\": [{\"Total Rent w/ Utilities\": 5625.0, \"Amenity\": \"Parking\", \"Has Amenity\": 1}, {\"Total Rent w/ Utilities\": 3675.0, \"Amenity\": \"Parking\", \"Has Amenity\": 1}, {\"Total Rent w/ Utilities\": 5625.0, \"Amenity\": \"Parking\", \"Has Amenity\": 1}, {\"Total Rent w/ Utilities\": 3625.0, \"Amenity\": \"Parking\", \"Has Amenity\": 1}, {\"Total Rent w/ Utilities\": 5625.0, \"Amenity\": \"Parking\", \"Has Amenity\": 1}, {\"Total Rent w/ Utilities\": 6500.0, \"Amenity\": \"Parking\", \"Has Amenity\": 1}, {\"Total Rent w/ Utilities\": 4675.0, \"Amenity\": \"Parking\", \"Has Amenity\": 1}, {\"Total Rent w/ Utilities\": 3500.0, \"Amenity\": \"Parking\", \"Has Amenity\": 1}, {\"Total Rent w/ Utilities\": 5625.0, \"Amenity\": \"Parking\", \"Has Amenity\": 1}, {\"Total Rent w/ Utilities\": 5675.0, \"Amenity\": \"Parking\", \"Has Amenity\": 1}, {\"Total Rent w/ Utilities\": 2625.0, \"Amenity\": \"Parking\", \"Has Amenity\": 1}, {\"Total Rent w/ Utilities\": 3675.0, \"Amenity\": \"Parking\", \"Has Amenity\": 1}, {\"Total Rent w/ Utilities\": 5500.0, \"Amenity\": \"Parking\", \"Has Amenity\": 1}, {\"Total Rent w/ Utilities\": 3675.0, \"Amenity\": \"Parking\", \"Has Amenity\": 1}, {\"Total Rent w/ Utilities\": 3675.0, \"Amenity\": \"Parking\", \"Has Amenity\": 1}, {\"Total Rent w/ Utilities\": 3625.0, \"Amenity\": \"Parking\", \"Has Amenity\": 1}, {\"Total Rent w/ Utilities\": 2625.0, \"Amenity\": \"Parking\", \"Has Amenity\": 1}, {\"Total Rent w/ Utilities\": 3725.0, \"Amenity\": \"Parking\", \"Has Amenity\": 1}, {\"Total Rent w/ Utilities\": 2625.0, \"Amenity\": \"Parking\", \"Has Amenity\": 1}, {\"Total Rent w/ Utilities\": 2675.0, \"Amenity\": \"Parking\", \"Has Amenity\": 1}, {\"Total Rent w/ Utilities\": 3500.0, \"Amenity\": \"Parking\", \"Has Amenity\": 1}, {\"Total Rent w/ Utilities\": 3500.0, \"Amenity\": \"Parking\", \"Has Amenity\": 1}, {\"Total Rent w/ Utilities\": 2675.0, \"Amenity\": \"Parking\", \"Has Amenity\": 1}, {\"Total Rent w/ Utilities\": 6500.0, \"Amenity\": \"Parking\", \"Has Amenity\": 1}, {\"Total Rent w/ Utilities\": 6725.0, \"Amenity\": \"Parking\", \"Has Amenity\": 1}, {\"Total Rent w/ Utilities\": 3675.0, \"Amenity\": \"Parking\", \"Has Amenity\": 1}, {\"Total Rent w/ Utilities\": 5625.0, \"Amenity\": \"Concierge/Doorman\", \"Has Amenity\": 1}, {\"Total Rent w/ Utilities\": 3625.0, \"Amenity\": \"Concierge/Doorman\", \"Has Amenity\": 1}, {\"Total Rent w/ Utilities\": 6500.0, \"Amenity\": \"Concierge/Doorman\", \"Has Amenity\": 1}, {\"Total Rent w/ Utilities\": 5575.0, \"Amenity\": \"Concierge/Doorman\", \"Has Amenity\": 1}, {\"Total Rent w/ Utilities\": 3675.0, \"Amenity\": \"Concierge/Doorman\", \"Has Amenity\": 1}, {\"Total Rent w/ Utilities\": 3675.0, \"Amenity\": \"Concierge/Doorman\", \"Has Amenity\": 1}, {\"Total Rent w/ Utilities\": 2625.0, \"Amenity\": \"Concierge/Doorman\", \"Has Amenity\": 1}, {\"Total Rent w/ Utilities\": 2625.0, \"Amenity\": \"Concierge/Doorman\", \"Has Amenity\": 1}, {\"Total Rent w/ Utilities\": 2675.0, \"Amenity\": \"Concierge/Doorman\", \"Has Amenity\": 1}, {\"Total Rent w/ Utilities\": 3625.0, \"Amenity\": \"Concierge/Doorman\", \"Has Amenity\": 1}, {\"Total Rent w/ Utilities\": 3500.0, \"Amenity\": \"Concierge/Doorman\", \"Has Amenity\": 1}, {\"Total Rent w/ Utilities\": 3500.0, \"Amenity\": \"Concierge/Doorman\", \"Has Amenity\": 1}, {\"Total Rent w/ Utilities\": 3675.0, \"Amenity\": \"Concierge/Doorman\", \"Has Amenity\": 1}, {\"Total Rent w/ Utilities\": 3675.0, \"Amenity\": \"Concierge/Doorman\", \"Has Amenity\": 1}, {\"Total Rent w/ Utilities\": 3675.0, \"Amenity\": \"Game room\", \"Has Amenity\": 1}, {\"Total Rent w/ Utilities\": 6575.0, \"Amenity\": \"roof deck\", \"Has Amenity\": 1}, {\"Total Rent w/ Utilities\": 5625.0, \"Amenity\": \"Gym\", \"Has Amenity\": 1}, {\"Total Rent w/ Utilities\": 6500.0, \"Amenity\": \"Gym\", \"Has Amenity\": 1}, {\"Total Rent w/ Utilities\": 3625.0, \"Amenity\": \"Gym\", \"Has Amenity\": 1}, {\"Total Rent w/ Utilities\": 5575.0, \"Amenity\": \"Gym\", \"Has Amenity\": 1}, {\"Total Rent w/ Utilities\": 3675.0, \"Amenity\": \"Gym\", \"Has Amenity\": 1}, {\"Total Rent w/ Utilities\": 3675.0, \"Amenity\": \"Gym\", \"Has Amenity\": 1}, {\"Total Rent w/ Utilities\": 3625.0, \"Amenity\": \"Gym\", \"Has Amenity\": 1}, {\"Total Rent w/ Utilities\": 2625.0, \"Amenity\": \"Gym\", \"Has Amenity\": 1}, {\"Total Rent w/ Utilities\": 2625.0, \"Amenity\": \"Gym\", \"Has Amenity\": 1}, {\"Total Rent w/ Utilities\": 2675.0, \"Amenity\": \"Gym\", \"Has Amenity\": 1}, {\"Total Rent w/ Utilities\": 3625.0, \"Amenity\": \"Gym\", \"Has Amenity\": 1}, {\"Total Rent w/ Utilities\": 3500.0, \"Amenity\": \"Gym\", \"Has Amenity\": 1}, {\"Total Rent w/ Utilities\": 4500.0, \"Amenity\": \"Gym\", \"Has Amenity\": 1}, {\"Total Rent w/ Utilities\": 3500.0, \"Amenity\": \"Gym\", \"Has Amenity\": 1}, {\"Total Rent w/ Utilities\": 3675.0, \"Amenity\": \"Gym\", \"Has Amenity\": 1}, {\"Total Rent w/ Utilities\": 5625.0, \"Amenity\": \"Pet-friendly\", \"Has Amenity\": 1}, {\"Total Rent w/ Utilities\": 4625.0, \"Amenity\": \"Pet-friendly\", \"Has Amenity\": 1}, {\"Total Rent w/ Utilities\": 5625.0, \"Amenity\": \"Pet-friendly\", \"Has Amenity\": 1}, {\"Total Rent w/ Utilities\": 4500.0, \"Amenity\": \"Pet-friendly\", \"Has Amenity\": 1}, {\"Total Rent w/ Utilities\": 5575.0, \"Amenity\": \"Pet-friendly\", \"Has Amenity\": 1}, {\"Total Rent w/ Utilities\": 6500.0, \"Amenity\": \"Pet-friendly\", \"Has Amenity\": 1}, {\"Total Rent w/ Utilities\": 5675.0, \"Amenity\": \"Pet-friendly\", \"Has Amenity\": 1}, {\"Total Rent w/ Utilities\": 4675.0, \"Amenity\": \"Pet-friendly\", \"Has Amenity\": 1}, {\"Total Rent w/ Utilities\": 6500.0, \"Amenity\": \"Pet-friendly\", \"Has Amenity\": 1}, {\"Total Rent w/ Utilities\": 3625.0, \"Amenity\": \"Pet-friendly\", \"Has Amenity\": 1}, {\"Total Rent w/ Utilities\": 5625.0, \"Amenity\": \"Pet-friendly\", \"Has Amenity\": 1}, {\"Total Rent w/ Utilities\": 3575.0, \"Amenity\": \"Pet-friendly\", \"Has Amenity\": 1}, {\"Total Rent w/ Utilities\": 3675.0, \"Amenity\": \"Pet-friendly\", \"Has Amenity\": 1}, {\"Total Rent w/ Utilities\": 3675.0, \"Amenity\": \"Pet-friendly\", \"Has Amenity\": 1}, {\"Total Rent w/ Utilities\": 3625.0, \"Amenity\": \"Pet-friendly\", \"Has Amenity\": 1}, {\"Total Rent w/ Utilities\": 2625.0, \"Amenity\": \"Pet-friendly\", \"Has Amenity\": 1}, {\"Total Rent w/ Utilities\": 2625.0, \"Amenity\": \"Pet-friendly\", \"Has Amenity\": 1}, {\"Total Rent w/ Utilities\": 3500.0, \"Amenity\": \"Pet-friendly\", \"Has Amenity\": 1}, {\"Total Rent w/ Utilities\": 4500.0, \"Amenity\": \"Pet-friendly\", \"Has Amenity\": 1}, {\"Total Rent w/ Utilities\": 3500.0, \"Amenity\": \"Pet-friendly\", \"Has Amenity\": 1}, {\"Total Rent w/ Utilities\": 6500.0, \"Amenity\": \"Pet-friendly\", \"Has Amenity\": 1}, {\"Total Rent w/ Utilities\": 6725.0, \"Amenity\": \"Pet-friendly\", \"Has Amenity\": 1}, {\"Total Rent w/ Utilities\": 3675.0, \"Amenity\": \"Pet-friendly\", \"Has Amenity\": 1}, {\"Total Rent w/ Utilities\": 1625.0, \"Amenity\": \"Pet-friendly\", \"Has Amenity\": 1}, {\"Total Rent w/ Utilities\": 3675.0, \"Amenity\": \"Pet-friendly\", \"Has Amenity\": 1}, {\"Total Rent w/ Utilities\": 3675.0, \"Amenity\": \"Pet-friendly\", \"Has Amenity\": 1}, {\"Total Rent w/ Utilities\": 3675.0, \"Amenity\": \"Laundry facilities (no need to pay)\", \"Has Amenity\": 1}, {\"Total Rent w/ Utilities\": 5625.0, \"Amenity\": \"Laundry facilities (no need to pay)\", \"Has Amenity\": 1}, {\"Total Rent w/ Utilities\": 3500.0, \"Amenity\": \"Laundry facilities (no need to pay)\", \"Has Amenity\": 1}, {\"Total Rent w/ Utilities\": 4625.0, \"Amenity\": \"Laundry facilities (no need to pay)\", \"Has Amenity\": 1}, {\"Total Rent w/ Utilities\": 5625.0, \"Amenity\": \"Laundry facilities (no need to pay)\", \"Has Amenity\": 1}, {\"Total Rent w/ Utilities\": 5625.0, \"Amenity\": \"Laundry facilities (no need to pay)\", \"Has Amenity\": 1}, {\"Total Rent w/ Utilities\": 5725.0, \"Amenity\": \"Laundry facilities (no need to pay)\", \"Has Amenity\": 1}, {\"Total Rent w/ Utilities\": 1625.0, \"Amenity\": \"Laundry facilities (no need to pay)\", \"Has Amenity\": 1}, {\"Total Rent w/ Utilities\": 4500.0, \"Amenity\": \"Laundry facilities (no need to pay)\", \"Has Amenity\": 1}, {\"Total Rent w/ Utilities\": 5575.0, \"Amenity\": \"Laundry facilities (no need to pay)\", \"Has Amenity\": 1}, {\"Total Rent w/ Utilities\": 3575.0, \"Amenity\": \"Laundry facilities (no need to pay)\", \"Has Amenity\": 1}, {\"Total Rent w/ Utilities\": 1625.0, \"Amenity\": \"Laundry facilities (no need to pay)\", \"Has Amenity\": 1}, {\"Total Rent w/ Utilities\": 5575.0, \"Amenity\": \"Laundry facilities (no need to pay)\", \"Has Amenity\": 1}, {\"Total Rent w/ Utilities\": 5575.0, \"Amenity\": \"Laundry facilities (no need to pay)\", \"Has Amenity\": 1}, {\"Total Rent w/ Utilities\": 4625.0, \"Amenity\": \"Laundry facilities (no need to pay)\", \"Has Amenity\": 1}, {\"Total Rent w/ Utilities\": 6500.0, \"Amenity\": \"Laundry facilities (no need to pay)\", \"Has Amenity\": 1}, {\"Total Rent w/ Utilities\": 3625.0, \"Amenity\": \"Laundry facilities (no need to pay)\", \"Has Amenity\": 1}, {\"Total Rent w/ Utilities\": 4675.0, \"Amenity\": \"Laundry facilities (no need to pay)\", \"Has Amenity\": 1}, {\"Total Rent w/ Utilities\": 5625.0, \"Amenity\": \"Laundry facilities (no need to pay)\", \"Has Amenity\": 1}, {\"Total Rent w/ Utilities\": 6500.0, \"Amenity\": \"Laundry facilities (no need to pay)\", \"Has Amenity\": 1}, {\"Total Rent w/ Utilities\": 6725.0, \"Amenity\": \"Laundry facilities (no need to pay)\", \"Has Amenity\": 1}, {\"Total Rent w/ Utilities\": 6675.0, \"Amenity\": \"Laundry facilities (no need to pay)\", \"Has Amenity\": 1}, {\"Total Rent w/ Utilities\": 4675.0, \"Amenity\": \"Laundry facilities (no need to pay)\", \"Has Amenity\": 1}, {\"Total Rent w/ Utilities\": 4625.0, \"Amenity\": \"Laundry facilities (no need to pay)\", \"Has Amenity\": 1}, {\"Total Rent w/ Utilities\": 5575.0, \"Amenity\": \"Laundry facilities (no need to pay)\", \"Has Amenity\": 1}, {\"Total Rent w/ Utilities\": 4675.0, \"Amenity\": \"Laundry facilities (no need to pay)\", \"Has Amenity\": 1}, {\"Total Rent w/ Utilities\": 5625.0, \"Amenity\": \"Laundry facilities (no need to pay)\", \"Has Amenity\": 1}, {\"Total Rent w/ Utilities\": 4625.0, \"Amenity\": \"Laundry facilities (no need to pay)\", \"Has Amenity\": 1}, {\"Total Rent w/ Utilities\": 6575.0, \"Amenity\": \"Laundry facilities (no need to pay)\", \"Has Amenity\": 1}, {\"Total Rent w/ Utilities\": 5575.0, \"Amenity\": \"Laundry facilities (no need to pay)\", \"Has Amenity\": 1}, {\"Total Rent w/ Utilities\": 3675.0, \"Amenity\": \"Laundry facilities (no need to pay)\", \"Has Amenity\": 1}, {\"Total Rent w/ Utilities\": 3675.0, \"Amenity\": \"Laundry facilities (no need to pay)\", \"Has Amenity\": 1}, {\"Total Rent w/ Utilities\": 3625.0, \"Amenity\": \"Laundry facilities (no need to pay)\", \"Has Amenity\": 1}, {\"Total Rent w/ Utilities\": 2625.0, \"Amenity\": \"Laundry facilities (no need to pay)\", \"Has Amenity\": 1}, {\"Total Rent w/ Utilities\": 2675.0, \"Amenity\": \"Laundry facilities (no need to pay)\", \"Has Amenity\": 1}, {\"Total Rent w/ Utilities\": 3625.0, \"Amenity\": \"Laundry facilities (no need to pay)\", \"Has Amenity\": 1}, {\"Total Rent w/ Utilities\": 3500.0, \"Amenity\": \"Laundry facilities (no need to pay)\", \"Has Amenity\": 1}, {\"Total Rent w/ Utilities\": 4500.0, \"Amenity\": \"Laundry facilities (no need to pay)\", \"Has Amenity\": 1}, {\"Total Rent w/ Utilities\": 3500.0, \"Amenity\": \"Laundry facilities (no need to pay)\", \"Has Amenity\": 1}, {\"Total Rent w/ Utilities\": 6725.0, \"Amenity\": \"Laundry facilities (no need to pay)\", \"Has Amenity\": 1}, {\"Total Rent w/ Utilities\": 3675.0, \"Amenity\": \"Laundry facilities (no need to pay)\", \"Has Amenity\": 1}, {\"Total Rent w/ Utilities\": 3675.0, \"Amenity\": \"Laundry facilities (no need to pay)\", \"Has Amenity\": 1}, {\"Total Rent w/ Utilities\": 5625.0, \"Amenity\": \"Pool\", \"Has Amenity\": 1}, {\"Total Rent w/ Utilities\": 2625.0, \"Amenity\": \"Pool\", \"Has Amenity\": 1}, {\"Total Rent w/ Utilities\": 2675.0, \"Amenity\": \"Pool\", \"Has Amenity\": 1}, {\"Total Rent w/ Utilities\": 4500.0, \"Amenity\": \"Pool\", \"Has Amenity\": 1}, {\"Total Rent w/ Utilities\": 3675.0, \"Amenity\": \"Pool\", \"Has Amenity\": 1}, {\"Total Rent w/ Utilities\": 3500.0, \"Amenity\": \"Mail Room\", \"Has Amenity\": 1}, {\"Total Rent w/ Utilities\": 3675.0, \"Amenity\": \"Mail Room\", \"Has Amenity\": 1}, {\"Total Rent w/ Utilities\": 5500.0, \"Amenity\": \"Mail Room\", \"Has Amenity\": 1}, {\"Total Rent w/ Utilities\": 4575.0, \"Amenity\": \"Mail Room\", \"Has Amenity\": 1}, {\"Total Rent w/ Utilities\": 4625.0, \"Amenity\": \"Mail Room\", \"Has Amenity\": 1}, {\"Total Rent w/ Utilities\": 5625.0, \"Amenity\": \"Mail Room\", \"Has Amenity\": 1}, {\"Total Rent w/ Utilities\": 5575.0, \"Amenity\": \"Mail Room\", \"Has Amenity\": 1}, {\"Total Rent w/ Utilities\": 6500.0, \"Amenity\": \"Mail Room\", \"Has Amenity\": 1}, {\"Total Rent w/ Utilities\": 3675.0, \"Amenity\": \"Mail Room\", \"Has Amenity\": 1}, {\"Total Rent w/ Utilities\": 3675.0, \"Amenity\": \"Mail Room\", \"Has Amenity\": 1}, {\"Total Rent w/ Utilities\": 2625.0, \"Amenity\": \"Mail Room\", \"Has Amenity\": 1}, {\"Total Rent w/ Utilities\": 2625.0, \"Amenity\": \"Mail Room\", \"Has Amenity\": 1}, {\"Total Rent w/ Utilities\": 2675.0, \"Amenity\": \"Mail Room\", \"Has Amenity\": 1}, {\"Total Rent w/ Utilities\": 3500.0, \"Amenity\": \"Mail Room\", \"Has Amenity\": 1}, {\"Total Rent w/ Utilities\": 3500.0, \"Amenity\": \"Mail Room\", \"Has Amenity\": 1}, {\"Total Rent w/ Utilities\": 3675.0, \"Amenity\": \"Mail Room\", \"Has Amenity\": 1}, {\"Total Rent w/ Utilities\": 3675.0, \"Amenity\": \"Mail Room\", \"Has Amenity\": 1}, {\"Total Rent w/ Utilities\": 4675.0, \"Amenity\": \"No Additional Amenities\", \"Has Amenity\": 1}, {\"Total Rent w/ Utilities\": 4500.0, \"Amenity\": \"No Additional Amenities\", \"Has Amenity\": 1}, {\"Total Rent w/ Utilities\": 4625.0, \"Amenity\": \"No Additional Amenities\", \"Has Amenity\": 1}, {\"Total Rent w/ Utilities\": 5725.0, \"Amenity\": \"No Additional Amenities\", \"Has Amenity\": 1}, {\"Total Rent w/ Utilities\": 1500.0, \"Amenity\": \"No Additional Amenities\", \"Has Amenity\": 1}, {\"Total Rent w/ Utilities\": 5675.0, \"Amenity\": \"No Additional Amenities\", \"Has Amenity\": 1}, {\"Total Rent w/ Utilities\": 2575.0, \"Amenity\": \"No Additional Amenities\", \"Has Amenity\": 1}, {\"Total Rent w/ Utilities\": 5500.0, \"Amenity\": \"No Additional Amenities\", \"Has Amenity\": 1}, {\"Total Rent w/ Utilities\": 3625.0, \"Amenity\": \"No Additional Amenities\", \"Has Amenity\": 1}, {\"Total Rent w/ Utilities\": 3500.0, \"Amenity\": \"No Additional Amenities\", \"Has Amenity\": 1}, {\"Total Rent w/ Utilities\": 6675.0, \"Amenity\": \"No Additional Amenities\", \"Has Amenity\": 1}, {\"Total Rent w/ Utilities\": 4675.0, \"Amenity\": \"No Additional Amenities\", \"Has Amenity\": 1}, {\"Total Rent w/ Utilities\": 3675.0, \"Amenity\": \"No Additional Amenities\", \"Has Amenity\": 1}, {\"Total Rent w/ Utilities\": 3500.0, \"Amenity\": \"No Additional Amenities\", \"Has Amenity\": 1}, {\"Total Rent w/ Utilities\": 4500.0, \"Amenity\": \"No Additional Amenities\", \"Has Amenity\": 1}, {\"Total Rent w/ Utilities\": 5725.0, \"Amenity\": \"No Additional Amenities\", \"Has Amenity\": 1}, {\"Total Rent w/ Utilities\": 3625.0, \"Amenity\": \"No Additional Amenities\", \"Has Amenity\": 1}, {\"Total Rent w/ Utilities\": 2675.0, \"Amenity\": \"No Additional Amenities\", \"Has Amenity\": 1}, {\"Total Rent w/ Utilities\": 2625.0, \"Amenity\": \"No Additional Amenities\", \"Has Amenity\": 1}, {\"Total Rent w/ Utilities\": 4675.0, \"Amenity\": \"No Additional Amenities\", \"Has Amenity\": 1}, {\"Total Rent w/ Utilities\": 5725.0, \"Amenity\": \"No Additional Amenities\", \"Has Amenity\": 1}, {\"Total Rent w/ Utilities\": 5725.0, \"Amenity\": \"No Additional Amenities\", \"Has Amenity\": 1}, {\"Total Rent w/ Utilities\": 2675.0, \"Amenity\": \"No Additional Amenities\", \"Has Amenity\": 1}, {\"Total Rent w/ Utilities\": 2675.0, \"Amenity\": \"No Additional Amenities\", \"Has Amenity\": 1}, {\"Total Rent w/ Utilities\": 2675.0, \"Amenity\": \"No Additional Amenities\", \"Has Amenity\": 1}, {\"Total Rent w/ Utilities\": 4725.0, \"Amenity\": \"No Additional Amenities\", \"Has Amenity\": 1}, {\"Total Rent w/ Utilities\": 4725.0, \"Amenity\": \"No Additional Amenities\", \"Has Amenity\": 1}, {\"Total Rent w/ Utilities\": 4500.0, \"Amenity\": \"No Additional Amenities\", \"Has Amenity\": 1}]}}, {\"mode\": \"vega-lite\"});\n",
              "</script>"
            ],
            "text/plain": [
              "alt.LayerChart(...)"
            ]
          },
          "execution_count": 2,
          "metadata": {},
          "output_type": "execute_result"
        }
      ],
      "source": [
        "import altair as alt\n",
        "import pandas as pd\n",
        "\n",
        "# loads data\n",
        "df_cleaned = pd.read_csv(\"cleaned_rental_data.csv\")\n",
        "\n",
        "# identifies amenity columns\n",
        "amenity_cols = [col for col in df_cleaned.columns if col not in [\n",
        "    \"Rental Type\", \"Bedrooms\", \"Bathrooms\", \"Furnished\", \"Neighborhood\",\n",
        "    \"Proximity to Transit\", \"Total Rent Avg\", \"Utility Cost Avg\",\n",
        "    \"Personal Income Avg\", \"People in Unit\", \"Total Rent w/ Utilities\"\n",
        "]]\n",
        "\n",
        "# melts to long format for grouping and filtering\n",
        "df_long = df_cleaned.melt(\n",
        "    id_vars=[\"Total Rent w/ Utilities\"],\n",
        "    value_vars=amenity_cols,\n",
        "    var_name=\"Amenity\",\n",
        "    value_name=\"Has Amenity\"\n",
        ")\n",
        "\n",
        "# only keeps rows where the amenity is present\n",
        "df_long = df_long[df_long[\"Has Amenity\"] == 1]\n",
        "\n",
        "# x axis encoding\n",
        "x_axis = alt.X('Amenity:N', sort='-y', title='Amenity', axis=alt.Axis(labelAngle=-45))\n",
        "\n",
        "# creates boxplot layer\n",
        "boxplot = alt.Chart(df_long).mark_boxplot(color=\"#0b3d91\").encode(\n",
        "    x=x_axis,\n",
        "    y=alt.Y('Total Rent w/ Utilities:Q', title='Total Rent')\n",
        ")\n",
        "\n",
        "# creates transparent bars with rent stats based on amenity\n",
        "tooltips = alt.Chart(df_long).transform_aggregate(\n",
        "    count='count()',\n",
        "    mean='mean(Total Rent w/ Utilities)',\n",
        "    q1='q1(Total Rent w/ Utilities)',\n",
        "    median='median(Total Rent w/ Utilities)',\n",
        "    q3='q3(Total Rent w/ Utilities)',\n",
        "    groupby=['Amenity']\n",
        ").mark_bar(opacity=0).encode(\n",
        "    x=x_axis,\n",
        "    y=alt.Y('median:Q'),\n",
        "    tooltip=[\n",
        "        alt.Tooltip('Amenity:N', title='Amenity'),\n",
        "        alt.Tooltip('count:Q', title='Number of Listings'),\n",
        "        alt.Tooltip('mean:Q', title='Mean Rent', format=',.0f'),\n",
        "        alt.Tooltip('q1:Q', title='1st Quartile', format=',.0f'),\n",
        "        alt.Tooltip('median:Q', title='Median Rent', format=',.0f'),\n",
        "        alt.Tooltip('q3:Q', title='3rd Quartile', format=',.0f')\n",
        "    ]\n",
        ")\n",
        "\n",
        "# combines chart layers for final chart\n",
        "final = (boxplot + tooltips).properties(\n",
        "    width=600,\n",
        "    height=400,\n",
        "    title=\"Rent Distribution by Amenity\"\n",
        ")\n",
        "\n",
        "final"
      ]
    },
    {
      "cell_type": "code",
      "execution_count": 3,
      "metadata": {
        "id": "-unLXpo45Ri0"
      },
      "outputs": [],
      "source": [
        "# Converts the chart to html format and creates the file\n",
        "html = final.to_html(embed_options={'actions': False})\n",
        "\n",
        "with open('amenity_rent.html', 'w') as f:\n",
        "    f.write(html)"
      ]
    },
    {
      "cell_type": "code",
      "execution_count": null,
      "metadata": {
        "colab": {
          "base_uri": "https://localhost:8080/",
          "height": 17
        },
        "id": "X4MnTvbi5SQ5",
        "outputId": "6fe17f10-b3bd-4ac3-949c-15e3494fe010"
      },
      "outputs": [],
      "source": [
        "from google.colab import files\n",
        "files.download('amenity_rent.html')"
      ]
    },
    {
      "cell_type": "code",
      "execution_count": null,
      "metadata": {},
      "outputs": [],
      "source": []
    }
  ],
  "metadata": {
    "colab": {
      "provenance": []
    },
    "kernelspec": {
      "display_name": "ds",
      "language": "python",
      "name": "python3"
    },
    "language_info": {
      "codemirror_mode": {
        "name": "ipython",
        "version": 3
      },
      "file_extension": ".py",
      "mimetype": "text/x-python",
      "name": "python",
      "nbconvert_exporter": "python",
      "pygments_lexer": "ipython3",
      "version": "3.11.8"
    }
  },
  "nbformat": 4,
  "nbformat_minor": 0
}
